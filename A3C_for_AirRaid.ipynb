{
  "cells": [
    {
      "cell_type": "markdown",
      "metadata": {
        "id": "view-in-github",
        "colab_type": "text"
      },
      "source": [
        "<a href=\"https://colab.research.google.com/github/KhaledAShaheen/Sorting-Algorithms-Analysis/blob/main/A3C_for_AirRaid.ipynb\" target=\"_parent\"><img src=\"https://colab.research.google.com/assets/colab-badge.svg\" alt=\"Open In Colab\"/></a>"
      ]
    },
    {
      "cell_type": "markdown",
      "metadata": {
        "id": "dIo6Zkp7U1Hq"
      },
      "source": [
        "# A3C for AirRaid Game!\n"
      ]
    },
    {
      "cell_type": "markdown",
      "metadata": {
        "id": "pz8ogVxGVB6b"
      },
      "source": [
        "## Part 0 - Installing the required packages and importing the libraries"
      ]
    },
    {
      "cell_type": "markdown",
      "metadata": {
        "id": "CqN2IEX1VKzi"
      },
      "source": [
        "### Installing Gymnasium"
      ]
    },
    {
      "cell_type": "code",
      "execution_count": null,
      "metadata": {
        "id": "dbnq3XpoKa_7",
        "colab": {
          "base_uri": "https://localhost:8080/"
        },
        "outputId": "c8925d85-d6b5-4dbf-8e4b-3d6d174f008b"
      },
      "outputs": [
        {
          "output_type": "stream",
          "name": "stdout",
          "text": [
            "Requirement already satisfied: gymnasium in /usr/local/lib/python3.10/dist-packages (0.29.1)\n",
            "Requirement already satisfied: numpy>=1.21.0 in /usr/local/lib/python3.10/dist-packages (from gymnasium) (1.25.2)\n",
            "Requirement already satisfied: cloudpickle>=1.2.0 in /usr/local/lib/python3.10/dist-packages (from gymnasium) (2.2.1)\n",
            "Requirement already satisfied: typing-extensions>=4.3.0 in /usr/local/lib/python3.10/dist-packages (from gymnasium) (4.9.0)\n",
            "Requirement already satisfied: farama-notifications>=0.0.1 in /usr/local/lib/python3.10/dist-packages (from gymnasium) (0.0.4)\n",
            "Requirement already satisfied: gymnasium[accept-rom-license,atari] in /usr/local/lib/python3.10/dist-packages (0.29.1)\n",
            "Requirement already satisfied: numpy>=1.21.0 in /usr/local/lib/python3.10/dist-packages (from gymnasium[accept-rom-license,atari]) (1.25.2)\n",
            "Requirement already satisfied: cloudpickle>=1.2.0 in /usr/local/lib/python3.10/dist-packages (from gymnasium[accept-rom-license,atari]) (2.2.1)\n",
            "Requirement already satisfied: typing-extensions>=4.3.0 in /usr/local/lib/python3.10/dist-packages (from gymnasium[accept-rom-license,atari]) (4.9.0)\n",
            "Requirement already satisfied: farama-notifications>=0.0.1 in /usr/local/lib/python3.10/dist-packages (from gymnasium[accept-rom-license,atari]) (0.0.4)\n",
            "Requirement already satisfied: autorom[accept-rom-license]~=0.4.2 in /usr/local/lib/python3.10/dist-packages (from gymnasium[accept-rom-license,atari]) (0.4.2)\n",
            "Requirement already satisfied: shimmy[atari]<1.0,>=0.1.0 in /usr/local/lib/python3.10/dist-packages (from gymnasium[accept-rom-license,atari]) (0.2.1)\n",
            "Requirement already satisfied: click in /usr/local/lib/python3.10/dist-packages (from autorom[accept-rom-license]~=0.4.2->gymnasium[accept-rom-license,atari]) (8.1.7)\n",
            "Requirement already satisfied: requests in /usr/local/lib/python3.10/dist-packages (from autorom[accept-rom-license]~=0.4.2->gymnasium[accept-rom-license,atari]) (2.31.0)\n",
            "Requirement already satisfied: tqdm in /usr/local/lib/python3.10/dist-packages (from autorom[accept-rom-license]~=0.4.2->gymnasium[accept-rom-license,atari]) (4.66.2)\n",
            "Requirement already satisfied: AutoROM.accept-rom-license in /usr/local/lib/python3.10/dist-packages (from autorom[accept-rom-license]~=0.4.2->gymnasium[accept-rom-license,atari]) (0.6.1)\n",
            "Requirement already satisfied: ale-py~=0.8.1 in /usr/local/lib/python3.10/dist-packages (from shimmy[atari]<1.0,>=0.1.0->gymnasium[accept-rom-license,atari]) (0.8.1)\n",
            "Requirement already satisfied: importlib-resources in /usr/local/lib/python3.10/dist-packages (from ale-py~=0.8.1->shimmy[atari]<1.0,>=0.1.0->gymnasium[accept-rom-license,atari]) (6.1.1)\n",
            "Requirement already satisfied: charset-normalizer<4,>=2 in /usr/local/lib/python3.10/dist-packages (from requests->autorom[accept-rom-license]~=0.4.2->gymnasium[accept-rom-license,atari]) (3.3.2)\n",
            "Requirement already satisfied: idna<4,>=2.5 in /usr/local/lib/python3.10/dist-packages (from requests->autorom[accept-rom-license]~=0.4.2->gymnasium[accept-rom-license,atari]) (3.6)\n",
            "Requirement already satisfied: urllib3<3,>=1.21.1 in /usr/local/lib/python3.10/dist-packages (from requests->autorom[accept-rom-license]~=0.4.2->gymnasium[accept-rom-license,atari]) (2.0.7)\n",
            "Requirement already satisfied: certifi>=2017.4.17 in /usr/local/lib/python3.10/dist-packages (from requests->autorom[accept-rom-license]~=0.4.2->gymnasium[accept-rom-license,atari]) (2024.2.2)\n",
            "Reading package lists... Done\n",
            "Building dependency tree... Done\n",
            "Reading state information... Done\n",
            "swig is already the newest version (4.0.2-1ubuntu1).\n",
            "0 upgraded, 0 newly installed, 0 to remove and 33 not upgraded.\n",
            "Requirement already satisfied: gymnasium[box2d] in /usr/local/lib/python3.10/dist-packages (0.29.1)\n",
            "Requirement already satisfied: numpy>=1.21.0 in /usr/local/lib/python3.10/dist-packages (from gymnasium[box2d]) (1.25.2)\n",
            "Requirement already satisfied: cloudpickle>=1.2.0 in /usr/local/lib/python3.10/dist-packages (from gymnasium[box2d]) (2.2.1)\n",
            "Requirement already satisfied: typing-extensions>=4.3.0 in /usr/local/lib/python3.10/dist-packages (from gymnasium[box2d]) (4.9.0)\n",
            "Requirement already satisfied: farama-notifications>=0.0.1 in /usr/local/lib/python3.10/dist-packages (from gymnasium[box2d]) (0.0.4)\n",
            "Requirement already satisfied: box2d-py==2.3.5 in /usr/local/lib/python3.10/dist-packages (from gymnasium[box2d]) (2.3.5)\n",
            "Requirement already satisfied: pygame>=2.1.3 in /usr/local/lib/python3.10/dist-packages (from gymnasium[box2d]) (2.5.2)\n",
            "Requirement already satisfied: swig==4.* in /usr/local/lib/python3.10/dist-packages (from gymnasium[box2d]) (4.2.0.post0)\n"
          ]
        }
      ],
      "source": [
        "!pip install gymnasium\n",
        "!pip install \"gymnasium[atari, accept-rom-license]\"\n",
        "!apt-get install -y swig\n",
        "!pip install gymnasium[box2d]"
      ]
    },
    {
      "cell_type": "markdown",
      "metadata": {
        "id": "BrsNHNQqVZLK"
      },
      "source": [
        "### Importing the libraries"
      ]
    },
    {
      "cell_type": "code",
      "execution_count": null,
      "metadata": {
        "id": "Ho_25-9_9qnu"
      },
      "outputs": [],
      "source": [
        "import cv2\n",
        "import math\n",
        "import random\n",
        "import numpy as np\n",
        "import torch\n",
        "import torch.nn as nn\n",
        "import torch.optim as optim\n",
        "import torch.nn.functional as F\n",
        "import torch.multiprocessing as mp\n",
        "import torch.distributions as distributions\n",
        "from torch.distributions import Categorical\n",
        "import gymnasium as gym\n",
        "from gymnasium import ObservationWrapper\n",
        "from gymnasium.spaces import Box"
      ]
    },
    {
      "cell_type": "markdown",
      "metadata": {
        "id": "VF6EFSGUVlk2"
      },
      "source": [
        "## Part 1 - Building the AI"
      ]
    },
    {
      "cell_type": "markdown",
      "metadata": {
        "id": "qyNc8cxbZCYP"
      },
      "source": [
        "### Creating the architecture of the Neural Network"
      ]
    },
    {
      "cell_type": "code",
      "execution_count": null,
      "metadata": {
        "id": "eYFXu6EAT4Kw"
      },
      "outputs": [],
      "source": [
        "class Network(nn.Module):\n",
        "\n",
        "  def __init__(self, action_size):\n",
        "    super(Network, self).__init__()\n",
        "    self.conv1 = torch.nn.Conv2d(in_channels = 4,  out_channels = 32, kernel_size = (3,3), stride = 2)\n",
        "    self.conv2 = torch.nn.Conv2d(in_channels = 32, out_channels = 32, kernel_size = (3,3), stride = 2)\n",
        "    self.conv3 = torch.nn.Conv2d(in_channels = 32, out_channels = 32, kernel_size = (3,3), stride = 2)\n",
        "    self.flatten = torch.nn.Flatten()\n",
        "    self.fc1  = torch.nn.Linear(512, 128)\n",
        "    self.fc2a = torch.nn.Linear(128, action_size)\n",
        "    self.fc2s = torch.nn.Linear(128, 1)\n",
        "\n",
        "  def forward(self, state):\n",
        "    x = self.conv1(state)\n",
        "    x = F.relu(x)\n",
        "    x = self.conv2(x)\n",
        "    x = F.relu(x)\n",
        "    x = self.conv3(x)\n",
        "    x = F.relu(x)\n",
        "    x = self.flatten(x)\n",
        "    x = self.fc1(x)\n",
        "    x = F.relu(x)\n",
        "    action_values = self.fc2a(x)\n",
        "    state_value = self.fc2s(x)[0]\n",
        "    return action_values, state_value"
      ]
    },
    {
      "cell_type": "markdown",
      "metadata": {
        "id": "eF5bETqbZbCG"
      },
      "source": [
        "## Part 2 - Training the AI"
      ]
    },
    {
      "cell_type": "markdown",
      "metadata": {
        "id": "3C2ydyKLZgaK"
      },
      "source": [
        "### Setting up the environment"
      ]
    },
    {
      "cell_type": "code",
      "execution_count": null,
      "metadata": {
        "colab": {
          "base_uri": "https://localhost:8080/"
        },
        "id": "gF756uIhRVcK",
        "outputId": "721d2093-9d66-4af6-c057-26927eaaacd6"
      },
      "outputs": [
        {
          "output_type": "stream",
          "name": "stdout",
          "text": [
            "State shape: (4, 42, 42)\n",
            "Number actions: 6\n",
            "Action names: ['NOOP', 'FIRE', 'RIGHT', 'LEFT', 'RIGHTFIRE', 'LEFTFIRE']\n"
          ]
        }
      ],
      "source": [
        "class PreprocessAtari(ObservationWrapper):\n",
        "\n",
        "  def __init__(self, env, height = 42, width = 42, crop = lambda img: img, dim_order = 'pytorch', color = False, n_frames = 4):\n",
        "    super(PreprocessAtari, self).__init__(env)\n",
        "    self.img_size = (height, width)\n",
        "    self.crop = crop\n",
        "    self.dim_order = dim_order\n",
        "    self.color = color\n",
        "    self.frame_stack = n_frames\n",
        "    n_channels = 3 * n_frames if color else n_frames\n",
        "    obs_shape = {'tensorflow': (height, width, n_channels), 'pytorch': (n_channels, height, width)}[dim_order]\n",
        "    self.observation_space = Box(0.0, 1.0, obs_shape)\n",
        "    self.frames = np.zeros(obs_shape, dtype = np.float32)\n",
        "\n",
        "  def reset(self):\n",
        "    self.frames = np.zeros_like(self.frames)\n",
        "    obs, info = self.env.reset()\n",
        "    self.update_buffer(obs)\n",
        "    return self.frames, info\n",
        "\n",
        "  def observation(self, img):\n",
        "    img = self.crop(img)\n",
        "    img = cv2.resize(img, self.img_size)\n",
        "    if not self.color:\n",
        "      if len(img.shape) == 3 and img.shape[2] == 3:\n",
        "        img = cv2.cvtColor(img, cv2.COLOR_BGR2GRAY)\n",
        "    img = img.astype('float32') / 255.\n",
        "    if self.color:\n",
        "      self.frames = np.roll(self.frames, shift = -3, axis = 0)\n",
        "    else:\n",
        "      self.frames = np.roll(self.frames, shift = -1, axis = 0)\n",
        "    if self.color:\n",
        "      self.frames[-3:] = img\n",
        "    else:\n",
        "      self.frames[-1] = img\n",
        "    return self.frames\n",
        "\n",
        "  def update_buffer(self, obs):\n",
        "    self.frames = self.observation(obs)\n",
        "\n",
        "def make_env():\n",
        "  env = gym.make(\"AirRaidDeterministic-v0\", render_mode = 'rgb_array')\n",
        "  env = PreprocessAtari(env, height = 42, width = 42, crop = lambda img: img, dim_order = 'pytorch', color = False, n_frames = 4)\n",
        "  return env\n",
        "\n",
        "env = make_env()\n",
        "\n",
        "state_shape = env.observation_space.shape\n",
        "number_actions = env.action_space.n\n",
        "print(\"State shape:\", state_shape)\n",
        "print(\"Number actions:\", number_actions)\n",
        "print(\"Action names:\", env.env.env.get_action_meanings())"
      ]
    },
    {
      "cell_type": "markdown",
      "metadata": {
        "id": "YgRlooBmC1hr"
      },
      "source": [
        "### Initializing the hyperparameters"
      ]
    },
    {
      "cell_type": "code",
      "execution_count": null,
      "metadata": {
        "id": "iio4XgZhC2XN"
      },
      "outputs": [],
      "source": [
        "learning_rate = 1e-4\n",
        "discount_factor = 0.99\n",
        "number_environments = 10\n",
        "number_actions = 6"
      ]
    },
    {
      "cell_type": "markdown",
      "metadata": {
        "id": "Gg_LmSs9IoTX"
      },
      "source": [
        "### Implementing the A3C class"
      ]
    },
    {
      "cell_type": "code",
      "execution_count": null,
      "metadata": {
        "id": "uNvmCJIDIwVZ"
      },
      "outputs": [],
      "source": [
        "class Agent():\n",
        "\n",
        "  def __init__(self, action_size):\n",
        "    self.device = torch.device(\"cuda:0\" if torch.cuda.is_available() else \"cpu\")\n",
        "    self.action_size = action_size\n",
        "    self.network = Network(action_size).to(self.device)\n",
        "    self.optimizer = torch.optim.Adam(self.network.parameters(), lr = learning_rate)\n",
        "\n",
        "  def act(self, state):\n",
        "    if state.ndim == 3:\n",
        "      state = [state]\n",
        "    state = torch.tensor(state, dtype = torch.float32, device = self.device)\n",
        "    action_values, _ = self.network(state)\n",
        "    policy = F.softmax(action_values, dim = -1)\n",
        "    return np.array([np.random.choice(len(p), p = p) for p in policy.detach().cpu().numpy()])\n",
        "\n",
        "  def step(self, state, action, reward, next_state, done):\n",
        "    batch_size = state.shape[0]\n",
        "    state = torch.tensor(state, dtype = torch.float32, device = self.device)\n",
        "    next_state = torch.tensor(next_state, dtype = torch.float32, device = self.device)\n",
        "    reward = torch.tensor(reward, dtype = torch.float32, device = self.device)\n",
        "    done = torch.tensor(done, dtype = torch.bool, device = self.device).to(dtype = torch.float32)\n",
        "    action_values, state_value = self.network(state)\n",
        "    _, next_state_value = self.network(next_state)\n",
        "    target_state_value = reward + discount_factor * next_state_value * (1 - done)\n",
        "    advantage = target_state_value - state_value\n",
        "    probs = F.softmax(action_values, dim = -1)\n",
        "    logprobs = F.log_softmax(action_values, dim = -1)\n",
        "    entropy = -torch.sum(probs * logprobs, axis = -1)\n",
        "    batch_idx = np.arange(batch_size)\n",
        "    logp_actions = logprobs[batch_idx, action]\n",
        "    actor_loss = -(logp_actions * advantage.detach()).mean() - 0.001 * entropy.mean()\n",
        "    critic_loss = F.mse_loss(target_state_value.detach(), state_value)\n",
        "    total_loss = actor_loss + critic_loss\n",
        "    self.optimizer.zero_grad()\n",
        "    total_loss.backward()\n",
        "    self.optimizer.step()"
      ]
    },
    {
      "cell_type": "markdown",
      "metadata": {
        "id": "7RnRukHDKFJ0"
      },
      "source": [
        "### Initializing the A3C agent"
      ]
    },
    {
      "cell_type": "code",
      "execution_count": null,
      "metadata": {
        "id": "_V6RUlHdKFSz"
      },
      "outputs": [],
      "source": [
        "agent = Agent(number_actions)"
      ]
    },
    {
      "cell_type": "markdown",
      "metadata": {
        "id": "oB5SpmoKP0aK"
      },
      "source": [
        "### Evaluating our A3C agent on a certain number of episodes"
      ]
    },
    {
      "cell_type": "code",
      "execution_count": null,
      "metadata": {
        "id": "RU1v_9UbUQv7"
      },
      "outputs": [],
      "source": [
        "def evaluate(agent, env, n_episodes = 1):\n",
        "  episodes_rewards = []\n",
        "  for _ in range(n_episodes):\n",
        "    state, _ = env.reset()\n",
        "    total_reward = 0\n",
        "    while True:\n",
        "      action = agent.act(state)\n",
        "      state, reward, done, info, _ = env.step(action[0])\n",
        "      total_reward += reward\n",
        "      if done:\n",
        "        break\n",
        "    episodes_rewards.append(total_reward)\n",
        "  return episodes_rewards"
      ]
    },
    {
      "cell_type": "markdown",
      "source": [],
      "metadata": {
        "id": "v6sag2JVc2Pz"
      }
    },
    {
      "cell_type": "markdown",
      "metadata": {
        "id": "jVSqiyjiQeMd"
      },
      "source": [
        "### Managing multiple environments simultaneously"
      ]
    },
    {
      "cell_type": "code",
      "execution_count": null,
      "metadata": {
        "id": "1GPEjnFyU_GD"
      },
      "outputs": [],
      "source": [
        "class EnvBatch:\n",
        "\n",
        "  def __init__(self, n_envs = 10):\n",
        "    self.envs = [make_env() for _ in range(n_envs)]\n",
        "\n",
        "  def reset(self):\n",
        "    _states = []\n",
        "    for env in self.envs:\n",
        "      _states.append(env.reset()[0])\n",
        "    return np.array(_states)\n",
        "\n",
        "  def step(self, actions):\n",
        "    next_states, rewards, dones, infos, _ = map(np.array, zip(*[env.step(a) for env, a in zip(self.envs, actions)]))\n",
        "    for i in range(len(self.envs)):\n",
        "      if dones[i]:\n",
        "        next_states[i] = self.envs[i].reset()[0]\n",
        "    return next_states, rewards, dones, infos"
      ]
    },
    {
      "cell_type": "markdown",
      "source": [],
      "metadata": {
        "id": "DNPwj11pd6Np"
      }
    },
    {
      "cell_type": "markdown",
      "metadata": {
        "id": "69WZWB4oRx1P"
      },
      "source": [
        "### Training the A3C agent"
      ]
    },
    {
      "cell_type": "code",
      "execution_count": null,
      "metadata": {
        "id": "HFkkVttVxSM8",
        "colab": {
          "base_uri": "https://localhost:8080/"
        },
        "outputId": "4e685d94-ec31-4822-e139-a2fbfc9641aa"
      },
      "outputs": [
        {
          "output_type": "stream",
          "name": "stderr",
          "text": [
            "\r  0%|          | 0/3001 [00:00<?, ?it/s]<ipython-input-28-0725e4aa1061>:33: UserWarning: Using a target size (torch.Size([1])) that is different to the input size (torch.Size([10])). This will likely lead to incorrect results due to broadcasting. Please ensure they have the same size.\n",
            "  critic_loss = F.mse_loss(target_state_value.detach(), state_value)\n",
            "  0%|          | 4/3001 [00:29<4:39:54,  5.60s/it] "
          ]
        },
        {
          "output_type": "stream",
          "name": "stdout",
          "text": [
            "Average agent reward:  1027.5\n"
          ]
        },
        {
          "output_type": "stream",
          "name": "stderr",
          "text": [
            " 34%|███▎      | 1007/3001 [01:11<18:29,  1.80it/s]"
          ]
        },
        {
          "output_type": "stream",
          "name": "stdout",
          "text": [
            "Average agent reward:  477.5\n"
          ]
        },
        {
          "output_type": "stream",
          "name": "stderr",
          "text": [
            " 67%|██████▋   | 2006/3001 [02:02<19:15,  1.16s/it]"
          ]
        },
        {
          "output_type": "stream",
          "name": "stdout",
          "text": [
            "Average agent reward:  1175.0\n"
          ]
        },
        {
          "output_type": "stream",
          "name": "stderr",
          "text": [
            "100%|██████████| 3001/3001 [02:46<00:00, 18.02it/s]"
          ]
        },
        {
          "output_type": "stream",
          "name": "stdout",
          "text": [
            "Average agent reward:  782.5\n"
          ]
        },
        {
          "output_type": "stream",
          "name": "stderr",
          "text": [
            "\n"
          ]
        }
      ],
      "source": [
        "import tqdm\n",
        "\n",
        "env_batch = EnvBatch(number_environments)\n",
        "batch_states = env_batch.reset()\n",
        "\n",
        "with tqdm.trange(0, 3001) as progress_bar:\n",
        "  for i in progress_bar:\n",
        "    batch_actions = agent.act(batch_states)\n",
        "    batch_next_states, batch_rewards, batch_dones, _ = env_batch.step(batch_actions)\n",
        "    batch_rewards *= 0.01\n",
        "    agent.step(batch_states, batch_actions, batch_rewards, batch_next_states, batch_dones)\n",
        "    batch_states = batch_next_states\n",
        "    if i % 1000 == 0:\n",
        "      print(\"Average agent reward: \", np.mean(evaluate(agent, env, n_episodes = 10)))"
      ]
    },
    {
      "cell_type": "markdown",
      "metadata": {
        "id": "7kG_YR9YdmUM"
      },
      "source": [
        "## Part 3 - Visualizing the results"
      ]
    },
    {
      "cell_type": "code",
      "execution_count": null,
      "metadata": {
        "colab": {
          "base_uri": "https://localhost:8080/",
          "height": 459
        },
        "id": "UGkTuO6DxZ6B",
        "outputId": "14b057ba-01af-4d85-ce14-39832b91bc33"
      },
      "outputs": [
        {
          "output_type": "stream",
          "name": "stderr",
          "text": [
            "WARNING:imageio_ffmpeg:IMAGEIO FFMPEG_WRITER WARNING: input image is not divisible by macro_block_size=16, resizing from (160, 250) to (160, 256) to ensure video compatibility with most codecs and players. To prevent resizing, make your input image divisible by the macro_block_size or set the macro_block_size to 1 (risking incompatibility).\n"
          ]
        },
        {
          "output_type": "display_data",
          "data": {
            "text/plain": [
              "<IPython.core.display.HTML object>"
            ],
            "text/html": [
              "<video alt=\"test\" autoplay\n",
              "                loop controls style=\"height: 400px;\">\n",
              "                <source src=\"data:video/mp4;base64,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\" type=\"video/mp4\" />\n",
              "             </video>"
            ]
          },
          "metadata": {}
        }
      ],
      "source": [
        "import glob\n",
        "import io\n",
        "import base64\n",
        "import imageio\n",
        "from IPython.display import HTML, display\n",
        "from gymnasium.wrappers.monitoring.video_recorder import VideoRecorder\n",
        "\n",
        "def show_video_of_model(agent, env):\n",
        "  state, _ = env.reset()\n",
        "  done = False\n",
        "  frames = []\n",
        "  while not done:\n",
        "    frame = env.render()\n",
        "    frames.append(frame)\n",
        "    action = agent.act(state)\n",
        "    state, reward, done, _, _ = env.step(action[0])\n",
        "  env.close()\n",
        "  imageio.mimsave('video.mp4', frames, fps=30)\n",
        "\n",
        "show_video_of_model(agent, env)\n",
        "\n",
        "def show_video():\n",
        "    mp4list = glob.glob('*.mp4')\n",
        "    if len(mp4list) > 0:\n",
        "        mp4 = mp4list[0]\n",
        "        video = io.open(mp4, 'r+b').read()\n",
        "        encoded = base64.b64encode(video)\n",
        "        display(HTML(data='''<video alt=\"test\" autoplay\n",
        "                loop controls style=\"height: 400px;\">\n",
        "                <source src=\"data:video/mp4;base64,{0}\" type=\"video/mp4\" />\n",
        "             </video>'''.format(encoded.decode('ascii'))))\n",
        "    else:\n",
        "        print(\"Could not find video\")\n",
        "\n",
        "show_video()"
      ]
    }
  ],
  "metadata": {
    "accelerator": "GPU",
    "colab": {
      "provenance": [],
      "include_colab_link": true
    },
    "kernelspec": {
      "display_name": "Python 3",
      "name": "python3"
    },
    "language_info": {
      "name": "python"
    }
  },
  "nbformat": 4,
  "nbformat_minor": 0
}